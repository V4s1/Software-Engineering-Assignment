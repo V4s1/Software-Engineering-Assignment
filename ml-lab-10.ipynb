{
  "cells": [
    {
      "cell_type": "markdown",
      "metadata": {
        "id": "JCj41Or1WzU0"
      },
      "source": [
        "# Machine Learning Lab 10\n",
        "\n",
        "Evaluation of classifiers with statistical significance testing.\n",
        "\n",
        "## Imports"
      ]
    },
    {
      "cell_type": "code",
      "execution_count": 1,
      "metadata": {
        "ExecuteTime": {
          "end_time": "2023-07-03T14:45:01.362096Z",
          "start_time": "2023-07-03T14:45:01.354323Z"
        },
        "id": "rwOJzrHqWzU3"
      },
      "outputs": [],
      "source": [
        "# Data and Datasets\n",
        "import pandas as pd\n",
        "from sklearn.datasets import load_iris\n",
        "from sklearn.datasets import load_wine\n",
        "\n",
        "# Validation methods\n",
        "from sklearn.model_selection import train_test_split\n",
        "from sklearn.model_selection import cross_val_score\n",
        "from sklearn.model_selection import cross_validate\n",
        "\n",
        "# Metrics\n",
        "from sklearn import metrics\n",
        "from sklearn.metrics import make_scorer\n",
        "from sklearn.metrics import accuracy_score\n",
        "from sklearn.metrics import precision_score\n",
        "from sklearn.metrics import recall_score\n",
        "\n",
        "# Classifiers\n",
        "from sklearn.neighbors import KNeighborsClassifier\n",
        "from sklearn.tree import DecisionTreeClassifier\n",
        "from sklearn.ensemble import RandomForestClassifier\n",
        "from sklearn.linear_model import LogisticRegression\n",
        "\n",
        "# Plotting & utils\n",
        "import pprint\n",
        "import matplotlib.pyplot as plt\n",
        "import numpy as np\n",
        "from time import time\n",
        "\n",
        "# For visualising decision trees\n",
        "from sklearn.tree import plot_tree\n",
        "from IPython.display import display\n",
        "from IPython.display import SVG\n",
        "from graphviz import Source\n",
        "from sklearn.tree import export_graphviz\n",
        "\n",
        "# Stats\n",
        "from scipy.stats import randint as sp_randint\n",
        "from scipy.stats import pearsonr\n",
        "from scipy.stats import spearmanr\n",
        "from scipy.stats import shapiro     # Shapiro Wilk\n",
        "from scipy.stats import normaltest  # D’Agostino’s K^2\n",
        "from scipy.stats import anderson    # Anderson-Darling\n",
        "from scipy.stats import ttest_ind    # independent student t-test; assumes normality\n",
        "from scipy.stats import mannwhitneyu # non-parametric; doesn't assume normality"
      ]
    },
    {
      "cell_type": "markdown",
      "metadata": {
        "id": "K1KE9zlTWzU5"
      },
      "source": [
        "## Loading the data"
      ]
    },
    {
      "cell_type": "code",
      "execution_count": 2,
      "metadata": {
        "ExecuteTime": {
          "end_time": "2023-07-03T14:44:33.225948Z",
          "start_time": "2023-07-03T14:44:33.216055Z"
        },
        "id": "SY3YtFf7WzU5",
        "outputId": "a837c0fe-3762-49be-8241-c8f57bd4a3c9",
        "colab": {
          "base_uri": "https://localhost:8080/",
          "height": 206
        }
      },
      "outputs": [
        {
          "output_type": "execute_result",
          "data": {
            "text/plain": [
              "   alcohol  malic_acid   ash  alcalinity_of_ash  magnesium  total_phenols  \\\n",
              "0    14.23        1.71  2.43               15.6      127.0           2.80   \n",
              "1    13.20        1.78  2.14               11.2      100.0           2.65   \n",
              "2    13.16        2.36  2.67               18.6      101.0           2.80   \n",
              "3    14.37        1.95  2.50               16.8      113.0           3.85   \n",
              "4    13.24        2.59  2.87               21.0      118.0           2.80   \n",
              "\n",
              "   flavanoids  nonflavanoid_phenols  proanthocyanins  color_intensity   hue  \\\n",
              "0        3.06                  0.28             2.29             5.64  1.04   \n",
              "1        2.76                  0.26             1.28             4.38  1.05   \n",
              "2        3.24                  0.30             2.81             5.68  1.03   \n",
              "3        3.49                  0.24             2.18             7.80  0.86   \n",
              "4        2.69                  0.39             1.82             4.32  1.04   \n",
              "\n",
              "   od280/od315_of_diluted_wines  proline  target  \n",
              "0                          3.92   1065.0       0  \n",
              "1                          3.40   1050.0       0  \n",
              "2                          3.17   1185.0       0  \n",
              "3                          3.45   1480.0       0  \n",
              "4                          2.93    735.0       0  "
            ],
            "text/html": [
              "\n",
              "  <div id=\"df-39a9e69c-d2d7-44ca-92da-96725e97c377\" class=\"colab-df-container\">\n",
              "    <div>\n",
              "<style scoped>\n",
              "    .dataframe tbody tr th:only-of-type {\n",
              "        vertical-align: middle;\n",
              "    }\n",
              "\n",
              "    .dataframe tbody tr th {\n",
              "        vertical-align: top;\n",
              "    }\n",
              "\n",
              "    .dataframe thead th {\n",
              "        text-align: right;\n",
              "    }\n",
              "</style>\n",
              "<table border=\"1\" class=\"dataframe\">\n",
              "  <thead>\n",
              "    <tr style=\"text-align: right;\">\n",
              "      <th></th>\n",
              "      <th>alcohol</th>\n",
              "      <th>malic_acid</th>\n",
              "      <th>ash</th>\n",
              "      <th>alcalinity_of_ash</th>\n",
              "      <th>magnesium</th>\n",
              "      <th>total_phenols</th>\n",
              "      <th>flavanoids</th>\n",
              "      <th>nonflavanoid_phenols</th>\n",
              "      <th>proanthocyanins</th>\n",
              "      <th>color_intensity</th>\n",
              "      <th>hue</th>\n",
              "      <th>od280/od315_of_diluted_wines</th>\n",
              "      <th>proline</th>\n",
              "      <th>target</th>\n",
              "    </tr>\n",
              "  </thead>\n",
              "  <tbody>\n",
              "    <tr>\n",
              "      <th>0</th>\n",
              "      <td>14.23</td>\n",
              "      <td>1.71</td>\n",
              "      <td>2.43</td>\n",
              "      <td>15.6</td>\n",
              "      <td>127.0</td>\n",
              "      <td>2.80</td>\n",
              "      <td>3.06</td>\n",
              "      <td>0.28</td>\n",
              "      <td>2.29</td>\n",
              "      <td>5.64</td>\n",
              "      <td>1.04</td>\n",
              "      <td>3.92</td>\n",
              "      <td>1065.0</td>\n",
              "      <td>0</td>\n",
              "    </tr>\n",
              "    <tr>\n",
              "      <th>1</th>\n",
              "      <td>13.20</td>\n",
              "      <td>1.78</td>\n",
              "      <td>2.14</td>\n",
              "      <td>11.2</td>\n",
              "      <td>100.0</td>\n",
              "      <td>2.65</td>\n",
              "      <td>2.76</td>\n",
              "      <td>0.26</td>\n",
              "      <td>1.28</td>\n",
              "      <td>4.38</td>\n",
              "      <td>1.05</td>\n",
              "      <td>3.40</td>\n",
              "      <td>1050.0</td>\n",
              "      <td>0</td>\n",
              "    </tr>\n",
              "    <tr>\n",
              "      <th>2</th>\n",
              "      <td>13.16</td>\n",
              "      <td>2.36</td>\n",
              "      <td>2.67</td>\n",
              "      <td>18.6</td>\n",
              "      <td>101.0</td>\n",
              "      <td>2.80</td>\n",
              "      <td>3.24</td>\n",
              "      <td>0.30</td>\n",
              "      <td>2.81</td>\n",
              "      <td>5.68</td>\n",
              "      <td>1.03</td>\n",
              "      <td>3.17</td>\n",
              "      <td>1185.0</td>\n",
              "      <td>0</td>\n",
              "    </tr>\n",
              "    <tr>\n",
              "      <th>3</th>\n",
              "      <td>14.37</td>\n",
              "      <td>1.95</td>\n",
              "      <td>2.50</td>\n",
              "      <td>16.8</td>\n",
              "      <td>113.0</td>\n",
              "      <td>3.85</td>\n",
              "      <td>3.49</td>\n",
              "      <td>0.24</td>\n",
              "      <td>2.18</td>\n",
              "      <td>7.80</td>\n",
              "      <td>0.86</td>\n",
              "      <td>3.45</td>\n",
              "      <td>1480.0</td>\n",
              "      <td>0</td>\n",
              "    </tr>\n",
              "    <tr>\n",
              "      <th>4</th>\n",
              "      <td>13.24</td>\n",
              "      <td>2.59</td>\n",
              "      <td>2.87</td>\n",
              "      <td>21.0</td>\n",
              "      <td>118.0</td>\n",
              "      <td>2.80</td>\n",
              "      <td>2.69</td>\n",
              "      <td>0.39</td>\n",
              "      <td>1.82</td>\n",
              "      <td>4.32</td>\n",
              "      <td>1.04</td>\n",
              "      <td>2.93</td>\n",
              "      <td>735.0</td>\n",
              "      <td>0</td>\n",
              "    </tr>\n",
              "  </tbody>\n",
              "</table>\n",
              "</div>\n",
              "    <div class=\"colab-df-buttons\">\n",
              "\n",
              "  <div class=\"colab-df-container\">\n",
              "    <button class=\"colab-df-convert\" onclick=\"convertToInteractive('df-39a9e69c-d2d7-44ca-92da-96725e97c377')\"\n",
              "            title=\"Convert this dataframe to an interactive table.\"\n",
              "            style=\"display:none;\">\n",
              "\n",
              "  <svg xmlns=\"http://www.w3.org/2000/svg\" height=\"24px\" viewBox=\"0 -960 960 960\">\n",
              "    <path d=\"M120-120v-720h720v720H120Zm60-500h600v-160H180v160Zm220 220h160v-160H400v160Zm0 220h160v-160H400v160ZM180-400h160v-160H180v160Zm440 0h160v-160H620v160ZM180-180h160v-160H180v160Zm440 0h160v-160H620v160Z\"/>\n",
              "  </svg>\n",
              "    </button>\n",
              "\n",
              "  <style>\n",
              "    .colab-df-container {\n",
              "      display:flex;\n",
              "      gap: 12px;\n",
              "    }\n",
              "\n",
              "    .colab-df-convert {\n",
              "      background-color: #E8F0FE;\n",
              "      border: none;\n",
              "      border-radius: 50%;\n",
              "      cursor: pointer;\n",
              "      display: none;\n",
              "      fill: #1967D2;\n",
              "      height: 32px;\n",
              "      padding: 0 0 0 0;\n",
              "      width: 32px;\n",
              "    }\n",
              "\n",
              "    .colab-df-convert:hover {\n",
              "      background-color: #E2EBFA;\n",
              "      box-shadow: 0px 1px 2px rgba(60, 64, 67, 0.3), 0px 1px 3px 1px rgba(60, 64, 67, 0.15);\n",
              "      fill: #174EA6;\n",
              "    }\n",
              "\n",
              "    .colab-df-buttons div {\n",
              "      margin-bottom: 4px;\n",
              "    }\n",
              "\n",
              "    [theme=dark] .colab-df-convert {\n",
              "      background-color: #3B4455;\n",
              "      fill: #D2E3FC;\n",
              "    }\n",
              "\n",
              "    [theme=dark] .colab-df-convert:hover {\n",
              "      background-color: #434B5C;\n",
              "      box-shadow: 0px 1px 3px 1px rgba(0, 0, 0, 0.15);\n",
              "      filter: drop-shadow(0px 1px 2px rgba(0, 0, 0, 0.3));\n",
              "      fill: #FFFFFF;\n",
              "    }\n",
              "  </style>\n",
              "\n",
              "    <script>\n",
              "      const buttonEl =\n",
              "        document.querySelector('#df-39a9e69c-d2d7-44ca-92da-96725e97c377 button.colab-df-convert');\n",
              "      buttonEl.style.display =\n",
              "        google.colab.kernel.accessAllowed ? 'block' : 'none';\n",
              "\n",
              "      async function convertToInteractive(key) {\n",
              "        const element = document.querySelector('#df-39a9e69c-d2d7-44ca-92da-96725e97c377');\n",
              "        const dataTable =\n",
              "          await google.colab.kernel.invokeFunction('convertToInteractive',\n",
              "                                                    [key], {});\n",
              "        if (!dataTable) return;\n",
              "\n",
              "        const docLinkHtml = 'Like what you see? Visit the ' +\n",
              "          '<a target=\"_blank\" href=https://colab.research.google.com/notebooks/data_table.ipynb>data table notebook</a>'\n",
              "          + ' to learn more about interactive tables.';\n",
              "        element.innerHTML = '';\n",
              "        dataTable['output_type'] = 'display_data';\n",
              "        await google.colab.output.renderOutput(dataTable, element);\n",
              "        const docLink = document.createElement('div');\n",
              "        docLink.innerHTML = docLinkHtml;\n",
              "        element.appendChild(docLink);\n",
              "      }\n",
              "    </script>\n",
              "  </div>\n",
              "\n",
              "\n",
              "<div id=\"df-0c033ddb-ca18-4812-a186-035150093279\">\n",
              "  <button class=\"colab-df-quickchart\" onclick=\"quickchart('df-0c033ddb-ca18-4812-a186-035150093279')\"\n",
              "            title=\"Suggest charts\"\n",
              "            style=\"display:none;\">\n",
              "\n",
              "<svg xmlns=\"http://www.w3.org/2000/svg\" height=\"24px\"viewBox=\"0 0 24 24\"\n",
              "     width=\"24px\">\n",
              "    <g>\n",
              "        <path d=\"M19 3H5c-1.1 0-2 .9-2 2v14c0 1.1.9 2 2 2h14c1.1 0 2-.9 2-2V5c0-1.1-.9-2-2-2zM9 17H7v-7h2v7zm4 0h-2V7h2v10zm4 0h-2v-4h2v4z\"/>\n",
              "    </g>\n",
              "</svg>\n",
              "  </button>\n",
              "\n",
              "<style>\n",
              "  .colab-df-quickchart {\n",
              "      --bg-color: #E8F0FE;\n",
              "      --fill-color: #1967D2;\n",
              "      --hover-bg-color: #E2EBFA;\n",
              "      --hover-fill-color: #174EA6;\n",
              "      --disabled-fill-color: #AAA;\n",
              "      --disabled-bg-color: #DDD;\n",
              "  }\n",
              "\n",
              "  [theme=dark] .colab-df-quickchart {\n",
              "      --bg-color: #3B4455;\n",
              "      --fill-color: #D2E3FC;\n",
              "      --hover-bg-color: #434B5C;\n",
              "      --hover-fill-color: #FFFFFF;\n",
              "      --disabled-bg-color: #3B4455;\n",
              "      --disabled-fill-color: #666;\n",
              "  }\n",
              "\n",
              "  .colab-df-quickchart {\n",
              "    background-color: var(--bg-color);\n",
              "    border: none;\n",
              "    border-radius: 50%;\n",
              "    cursor: pointer;\n",
              "    display: none;\n",
              "    fill: var(--fill-color);\n",
              "    height: 32px;\n",
              "    padding: 0;\n",
              "    width: 32px;\n",
              "  }\n",
              "\n",
              "  .colab-df-quickchart:hover {\n",
              "    background-color: var(--hover-bg-color);\n",
              "    box-shadow: 0 1px 2px rgba(60, 64, 67, 0.3), 0 1px 3px 1px rgba(60, 64, 67, 0.15);\n",
              "    fill: var(--button-hover-fill-color);\n",
              "  }\n",
              "\n",
              "  .colab-df-quickchart-complete:disabled,\n",
              "  .colab-df-quickchart-complete:disabled:hover {\n",
              "    background-color: var(--disabled-bg-color);\n",
              "    fill: var(--disabled-fill-color);\n",
              "    box-shadow: none;\n",
              "  }\n",
              "\n",
              "  .colab-df-spinner {\n",
              "    border: 2px solid var(--fill-color);\n",
              "    border-color: transparent;\n",
              "    border-bottom-color: var(--fill-color);\n",
              "    animation:\n",
              "      spin 1s steps(1) infinite;\n",
              "  }\n",
              "\n",
              "  @keyframes spin {\n",
              "    0% {\n",
              "      border-color: transparent;\n",
              "      border-bottom-color: var(--fill-color);\n",
              "      border-left-color: var(--fill-color);\n",
              "    }\n",
              "    20% {\n",
              "      border-color: transparent;\n",
              "      border-left-color: var(--fill-color);\n",
              "      border-top-color: var(--fill-color);\n",
              "    }\n",
              "    30% {\n",
              "      border-color: transparent;\n",
              "      border-left-color: var(--fill-color);\n",
              "      border-top-color: var(--fill-color);\n",
              "      border-right-color: var(--fill-color);\n",
              "    }\n",
              "    40% {\n",
              "      border-color: transparent;\n",
              "      border-right-color: var(--fill-color);\n",
              "      border-top-color: var(--fill-color);\n",
              "    }\n",
              "    60% {\n",
              "      border-color: transparent;\n",
              "      border-right-color: var(--fill-color);\n",
              "    }\n",
              "    80% {\n",
              "      border-color: transparent;\n",
              "      border-right-color: var(--fill-color);\n",
              "      border-bottom-color: var(--fill-color);\n",
              "    }\n",
              "    90% {\n",
              "      border-color: transparent;\n",
              "      border-bottom-color: var(--fill-color);\n",
              "    }\n",
              "  }\n",
              "</style>\n",
              "\n",
              "  <script>\n",
              "    async function quickchart(key) {\n",
              "      const quickchartButtonEl =\n",
              "        document.querySelector('#' + key + ' button');\n",
              "      quickchartButtonEl.disabled = true;  // To prevent multiple clicks.\n",
              "      quickchartButtonEl.classList.add('colab-df-spinner');\n",
              "      try {\n",
              "        const charts = await google.colab.kernel.invokeFunction(\n",
              "            'suggestCharts', [key], {});\n",
              "      } catch (error) {\n",
              "        console.error('Error during call to suggestCharts:', error);\n",
              "      }\n",
              "      quickchartButtonEl.classList.remove('colab-df-spinner');\n",
              "      quickchartButtonEl.classList.add('colab-df-quickchart-complete');\n",
              "    }\n",
              "    (() => {\n",
              "      let quickchartButtonEl =\n",
              "        document.querySelector('#df-0c033ddb-ca18-4812-a186-035150093279 button');\n",
              "      quickchartButtonEl.style.display =\n",
              "        google.colab.kernel.accessAllowed ? 'block' : 'none';\n",
              "    })();\n",
              "  </script>\n",
              "</div>\n",
              "    </div>\n",
              "  </div>\n"
            ]
          },
          "metadata": {},
          "execution_count": 2
        }
      ],
      "source": [
        "# Loading dataset\n",
        "dataset = load_wine()\n",
        "\n",
        "# Saving feature matrix and labels to X and y variables\n",
        "X = dataset.data\n",
        "y = dataset.target\n",
        "\n",
        "# Converting into a Pandas DataFrame\n",
        "wine_df = pd.DataFrame(data= np.c_[X, y], columns= dataset['feature_names'] + ['target'])\n",
        "\n",
        "# Converting the target column to int (from float)\n",
        "wine_df['target'] = pd.to_numeric(wine_df['target'], downcast='integer')\n",
        "\n",
        "# Printing out the top 5 rows of the DataFrame\n",
        "wine_df.head()"
      ]
    },
    {
      "cell_type": "markdown",
      "metadata": {
        "id": "UpVWJBwkWzU6"
      },
      "source": [
        "## Evaluating DT and RF\n",
        "\n",
        "Using some utility functions here too, to keep the amount of code in the cells training and testing each model down.\n",
        "\n",
        "### Utility functions\n",
        "\n",
        "These are modified functions from the regression lab, to validate the models.\n",
        "\n",
        "**TODO:** fix 2 x bugs in this validation function to ensure executes the correct number of runs and splits the dataset randomly each time.\n"
      ]
    },
    {
      "cell_type": "code",
      "execution_count": 15,
      "metadata": {
        "id": "Ijo0_mpzWzU6"
      },
      "outputs": [],
      "source": [
        "def validate_model(X, y, model, num_runs=1000, test_size=0.2, output=True):\n",
        "    \"\"\"\n",
        "    Performs hold-out validation of a given model on the dataset provided (X, y).\n",
        "    The default number of runs is 1000, and the default training/test split is 80/20.\n",
        "    \"\"\"\n",
        "\n",
        "    # arrays for storing performance metrics; accuracy, precision and recall\n",
        "    acc_list = np.array([])\n",
        "    prec_list = np.array([])\n",
        "    rec_list = np.array([])\n",
        "\n",
        "    # capturing the start-time\n",
        "    start_time = time()\n",
        "\n",
        "    if output:\n",
        "        print(\"Starting model validation\")\n",
        "\n",
        "    # runing `num_runs` number of validation runs of data splitting, training and testing\n",
        "    for x in range(num_runs):\n",
        "        # Hold-out validation - default 80% training and 20% testing\n",
        "        X_train, X_test, y_train, y_test = train_test_split(X, y, test_size=test_size, random_state=None)\n",
        "\n",
        "        # Training and testing the model\n",
        "        model.fit(X_train, y_train)\n",
        "        y_pred = model.predict(X_test)\n",
        "\n",
        "        # Appending performance metrics to arrays created above\n",
        "        acc_list = np.append(acc_list, accuracy_score(y_test, y_pred))\n",
        "        prec_list = np.append(prec_list, precision_score(y_test, y_pred, average='macro'))\n",
        "        rec_list = np.append(rec_list, recall_score(y_test, y_pred, average='macro'))\n",
        "\n",
        "    # capturing the end-time and printing out\n",
        "    end_time = time()\n",
        "\n",
        "    if output:\n",
        "        print(\"Completed %d validation runs in %.2f seconds\\n\" % (num_runs, end_time - start_time))\n",
        "\n",
        "    return acc_list, prec_list, rec_list"
      ]
    },
    {
      "cell_type": "code",
      "execution_count": 16,
      "metadata": {
        "id": "NmKluR0FWzU7"
      },
      "outputs": [],
      "source": [
        "def print_results(acc_list, prec_list, rec_list):\n",
        "    \"\"\"\n",
        "    Prints out the mean ACCURACY, PRECISION and RECALL + 2 x standard deviation (STD).\n",
        "    We multiply the STD by 2 because 95% of the data around the mean is within 2 standard deviations,\n",
        "    so it gives us a good idea of the range of values around the mean.\n",
        "    \"\"\"\n",
        "    print(\"ACC:   %0.2f (+/- %0.2f)\" % (acc_list.mean(), acc_list.std() * 2))\n",
        "    print(\"PREC:  %0.2f (+/- %0.2f)\" % (prec_list.mean(), prec_list.std() * 2))\n",
        "    print(\"REC:   %0.2f (+/- %0.2f)\" % (rec_list.mean(), rec_list.std() * 2))"
      ]
    },
    {
      "cell_type": "code",
      "execution_count": 17,
      "metadata": {
        "id": "c0Rf5o6yWzU7"
      },
      "outputs": [],
      "source": [
        "# Sets the number of runs of hold-out validation below (from which we get mean and stdev statistics)\n",
        "# PS: setting this here, so that we have just a single place to change this, instead of in 10+ function calls further below\n",
        "num_runs = 100"
      ]
    },
    {
      "cell_type": "markdown",
      "metadata": {
        "id": "SwJcEuj7WzU7"
      },
      "source": [
        "### Decision Tree"
      ]
    },
    {
      "cell_type": "code",
      "execution_count": 18,
      "metadata": {
        "id": "AyD-j2N5WzU8",
        "outputId": "20553492-d447-4aaf-d1bc-6384dfdfdc8a",
        "colab": {
          "base_uri": "https://localhost:8080/"
        }
      },
      "outputs": [
        {
          "output_type": "stream",
          "name": "stdout",
          "text": [
            "Starting model validation\n",
            "Completed 100 validation runs in 0.44 seconds\n",
            "\n",
            "ACC:   0.92 (+/- 0.10)\n",
            "PREC:  0.92 (+/- 0.09)\n",
            "REC:   0.92 (+/- 0.10)\n"
          ]
        }
      ],
      "source": [
        "# Instantiating model\n",
        "model = DecisionTreeClassifier(max_depth=4, criterion='entropy')\n",
        "\n",
        "# arrays for storing performance metrics\n",
        "acc_list_dt, prec_list_dt, rec_list_dt = validate_model(X, y, model, num_runs)\n",
        "\n",
        "# printing out the performance metrics\n",
        "print_results(acc_list_dt, prec_list_dt, rec_list_dt)"
      ]
    },
    {
      "cell_type": "markdown",
      "metadata": {
        "id": "dZRLuglNWzU8"
      },
      "source": [
        "### Random Forest\n",
        "\n",
        "**TODO:** add code to evaluate a random forest classifier (like the DT above)"
      ]
    },
    {
      "cell_type": "code",
      "execution_count": 25,
      "metadata": {
        "id": "pWUhuMdBWzU8",
        "outputId": "d7b254a6-9ede-4306-91db-2f41ab7d8d2a",
        "colab": {
          "base_uri": "https://localhost:8080/"
        }
      },
      "outputs": [
        {
          "output_type": "stream",
          "name": "stdout",
          "text": [
            "Starting model validation\n",
            "Completed 100 validation runs in 18.73 seconds\n",
            "\n",
            "ACC:   0.98 (+/- 0.05)\n",
            "PREC:  0.98 (+/- 0.05)\n",
            "REC:   0.98 (+/- 0.04)\n"
          ]
        }
      ],
      "source": [
        "# Instantiating model\n",
        "model = RandomForestClassifier(max_depth=4, criterion='entropy',n_estimators=100)\n",
        "\n",
        "# arrays for storing performance metrics\n",
        "acc_list_rf, prec_list_rf, rec_list_rf = validate_model(X, y, model, num_runs)\n",
        "\n",
        "# printing out the performance metrics\n",
        "print_results(acc_list_rf, prec_list_rf, rec_list_rf)"
      ]
    },
    {
      "cell_type": "markdown",
      "metadata": {
        "id": "pbOtQG1pWzU8"
      },
      "source": [
        "## Statistical significance testing\n",
        "\n",
        "### Histogram of performance\n",
        "\n",
        "**TODO:** Add a RF histogram"
      ]
    },
    {
      "cell_type": "code",
      "execution_count": 23,
      "metadata": {
        "id": "xxm39bM0WzU8",
        "outputId": "eac05e6c-9282-4a22-a238-9aeedbecbf6f",
        "colab": {
          "base_uri": "https://localhost:8080/",
          "height": 600
        }
      },
      "outputs": [
        {
          "output_type": "execute_result",
          "data": {
            "text/plain": [
              "Text(0.5, 1.0, 'RF')"
            ]
          },
          "metadata": {},
          "execution_count": 23
        },
        {
          "output_type": "display_data",
          "data": {
            "text/plain": [
              "<Figure size 1600x600 with 2 Axes>"
            ],
            "image/png": "[encoded data removed]"
          },
          "metadata": {}
        }
      ],
      "source": [
        "# Setting up figure with two sub-plots to show the distribution of the DT and RF results (accuracy)\n",
        "fig, axs = plt.subplots(1, 2, figsize=(16, 6), sharey=True)\n",
        "fig.suptitle('Accuracy distributions')\n",
        "\n",
        "num_bins = 8\n",
        "\n",
        "# Adding figure for DT\n",
        "axs[0].hist(acc_list_dt, num_bins)\n",
        "axs[0].set_title('DT')\n",
        "\n",
        "# TODO: adding figure for RF\n",
        "axs[1].hist(acc_list_rf, num_bins)\n",
        "axs[1].set_title('RF')"
      ]
    },
    {
      "cell_type": "markdown",
      "metadata": {
        "id": "MAlZJObnWzU9"
      },
      "source": [
        "### Testing for normality\n",
        "\n",
        "**TODO:** Add normality testing for the RF"
      ]
    },
    {
      "cell_type": "code",
      "execution_count": 26,
      "metadata": {
        "id": "ZfJdBPLUWzU9",
        "outputId": "0fc9514d-d6fb-4f78-abc0-d57de93b686a",
        "colab": {
          "base_uri": "https://localhost:8080/"
        }
      },
      "outputs": [
        {
          "output_type": "stream",
          "name": "stdout",
          "text": [
            "DT normality tests\n",
            " - Shapiro:    W = 0.94, p-value = 0.00\n",
            "   - The distribution does NOT appear to be normal\n",
            " - D’Agostino: W = 10.42, p-value = 0.01\n",
            "   - The distribution does NOT appear to be normal\n",
            "RF normality tests\n",
            " - Shapiro:    W = 0.78, p-value = 0.00\n",
            "   - The distribution does NOT appear to be normal\n",
            " - D’Agostino: W = 23.84, p-value = 0.00\n",
            "   - The distribution does NOT appear to be normal\n"
          ]
        }
      ],
      "source": [
        "# Checking for normality and statistical significance\n",
        "# Null hypothesis = data was drawn from a normal distribution\n",
        "# If p-value < alpha --> reject null hypothesis\n",
        "\n",
        "alpha = 0.05\n",
        "\n",
        "print(\"DT normality tests\")\n",
        "stat, p = shapiro(acc_list_dt)\n",
        "print(' - Shapiro:    W = %0.2f, p-value = %0.2f' % (stat, p))\n",
        "if p < alpha:\n",
        "    print(\"   - The distribution does NOT appear to be normal\")\n",
        "else:\n",
        "    print(\"   - The appears to be normal\")\n",
        "\n",
        "stat, p = normaltest(acc_list_dt)\n",
        "print(' - D’Agostino: W = %0.2f, p-value = %0.2f' % (stat, p))\n",
        "if p < alpha:\n",
        "    print(\"   - The distribution does NOT appear to be normal\")\n",
        "else:\n",
        "    print(\"   - The appears to be normal\")\n",
        "\n",
        "# TODO: add normality tests for the RF\n",
        "\n",
        "print(\"RF normality tests\")\n",
        "stat, p = shapiro(acc_list_rf)\n",
        "print(' - Shapiro:    W = %0.2f, p-value = %0.2f' % (stat, p))\n",
        "if p < alpha:\n",
        "    print(\"   - The distribution does NOT appear to be normal\")\n",
        "else:\n",
        "    print(\"   - The appears to be normal\")\n",
        "\n",
        "stat, p = normaltest(acc_list_rf)\n",
        "print(' - D’Agostino: W = %0.2f, p-value = %0.2f' % (stat, p))\n",
        "if p < alpha:\n",
        "    print(\"   - The distribution does NOT appear to be normal\")\n",
        "else:\n",
        "    print(\"   - The appears to be normal\")\n"
      ]
    },
    {
      "cell_type": "markdown",
      "metadata": {
        "id": "NhyE3MiTWzU9"
      },
      "source": [
        "### Significance testing"
      ]
    },
    {
      "cell_type": "code",
      "execution_count": 28,
      "metadata": {
        "id": "ErLamFFMWzU9",
        "outputId": "d105696f-d586-4ba9-8364-086b794d8b9c",
        "colab": {
          "base_uri": "https://localhost:8080/"
        }
      },
      "outputs": [
        {
          "output_type": "stream",
          "name": "stdout",
          "text": [
            "T-Test [for normal distributions]\n",
            " - stat = -11.30, p-value = 0.000000\n",
            " - The performance difference appears significant\n",
            "Mann-Whitney U [for normal distributions]\n",
            " - stat = 1344.00, p-value = 0.000000\n",
            " - The performance difference appears significant\n"
          ]
        }
      ],
      "source": [
        "# Null hypothesis = identical average scores\n",
        "# If p-value < alpha --> reject null hypothesis\n",
        "\n",
        "alpha = 0.05\n",
        "\n",
        "stat, p = ttest_ind(acc_list_dt, acc_list_rf)\n",
        "print('T-Test [for normal distributions]')\n",
        "print(' - stat = %0.2f, p-value = %f' % (stat, p))\n",
        "if p < alpha:\n",
        "    print(\" - The performance difference appears significant\")\n",
        "else:\n",
        "    print(\" - The performance difference is NOT significant\")\n",
        "\n",
        "# TODO: add Mann-Whitney U test for statistical significance\n",
        "\n",
        "\n",
        "stat, p = mannwhitneyu(acc_list_dt, acc_list_rf)\n",
        "print('Mann-Whitney U [for normal distributions]')\n",
        "print(' - stat = %0.2f, p-value = %f' % (stat, p))\n",
        "if p < alpha:\n",
        "    print(\" - The performance difference appears significant\")\n",
        "else:\n",
        "    print(\" - The performance difference is NOT significant\")"
      ]
    },
    {
      "cell_type": "code",
      "source": [
        "from google.colab import drive\n",
        "drive.mount('/content/drive')"
      ],
      "metadata": {
        "id": "M7ci-azqk0j1",
        "outputId": "7e8a11b9-7ab9-42c8-974d-9c2ce112ba8a",
        "colab": {
          "base_uri": "https://localhost:8080/"
        }
      },
      "execution_count": 29,
      "outputs": [
        {
          "output_type": "stream",
          "name": "stdout",
          "text": [
            "Mounted at /content/drive\n"
          ]
        }
      ]
    },
    {
      "cell_type": "markdown",
      "metadata": {
        "id": "e40wuNOpWzU9"
      },
      "source": [
        "## Conclusion\n",
        "\n",
        "**TODO:** what's your conclusion? Whic model is best? Is the performance significantly \"better\" than the other?"
      ]
    },
    {
      "cell_type": "code",
      "execution_count": null,
      "metadata": {
        "id": "-fL0_ktmWzU-"
      },
      "outputs": [],
      "source": []
    }
  ],
  "metadata": {
    "kernelspec": {
      "display_name": "Python 3 (ipykernel)",
      "language": "python",
      "name": "python3"
    },
    "language_info": {
      "codemirror_mode": {
        "name": "ipython",
        "version": 3
      },
      "file_extension": ".py",
      "mimetype": "text/x-python",
      "name": "python",
      "nbconvert_exporter": "python",
      "pygments_lexer": "ipython3",
      "version": "3.11.1"
    },
    "toc": {
      "base_numbering": 1,
      "nav_menu": {},
      "number_sections": true,
      "sideBar": true,
      "skip_h1_title": false,
      "title_cell": "Table of Contents",
      "title_sidebar": "Contents",
      "toc_cell": false,
      "toc_position": {},
      "toc_section_display": true,
      "toc_window_display": true
    },
    "varInspector": {
      "cols": {
        "lenName": 16,
        "lenType": 16,
        "lenVar": 40
      },
      "kernels_config": {
        "python": {
          "delete_cmd_postfix": "",
          "delete_cmd_prefix": "del ",
          "library": "var_list.py",
          "varRefreshCmd": "print(var_dic_list())"
        },
        "r": {
          "delete_cmd_postfix": ") ",
          "delete_cmd_prefix": "rm(",
          "library": "var_list.r",
          "varRefreshCmd": "cat(var_dic_list()) "
        }
      },
      "types_to_exclude": [
        "module",
        "function",
        "builtin_function_or_method",
        "instance",
        "_Feature"
      ],
      "window_display": false
    },
    "colab": {
      "provenance": []
    }
  },
  "nbformat": 4,
  "nbformat_minor": 0
}